{
 "cells": [
  {
   "cell_type": "code",
   "execution_count": 4,
   "metadata": {},
   "outputs": [],
   "source": [
    "text = \"```json\\n{\\\"full_answer\\\": \\\"Seseorang yang mengendarai sepeda motor tanpa mengenakan helm yang memenuhi standar nasional Indonesia sebagaimana dimaksud dalam Pasal 106 ayat (8) Undang-Undang Nomor 22 Tahun 2009 tentang Lalu Lintas dan Angkutan Jalan, dipidana dengan pidana kurungan paling lama 1 (satu) bulan atau denda paling banyak Rp250.000,00 (dua ratus lima puluh ribu rupiah).\\\", \\\"laws\\\": [{\\\"jawaban\\\": \\\"Setiap orang yang mengemudikan Sepeda Motor dan Penumpang Sepeda Motor wajib mengenakan helm yang memenuhi standar nasional Indonesia sebagaimana dimaksud dalam Pasal 106 ayat (8) dipidana dengan pidana kurungan paling lama 1 (satu) bulan atau denda paling banyak Rp250.000,00 (dua ratus lima puluh ribu rupiah).\\\", \\\"undang-undang\\\": \\\"Undang-Undang Nomor 22 Tahun 2009 tentang Lalu Lintas dan Angkutan Jalan\\\", \\\"BAB\\\": \\\"BAB IX LALU LINTAS\\\", \\\"pasal\\\": \\\"Pasal 106\\\", \\\"ayat\\\": \\\"ayat (8)\\\"}, {\\\"jawaban\\\": \\\"Setiap orang yang mengemudikan Sepeda Motor tidak mengenakan helm standar nasional Indonesia sebagaimana dimaksud dalam Pasal 106 ayat (8) dipidana dengan pidana kurungan paling lama 1 (satu) bulan atau denda paling banyak Rp250.000,00 (dua ratus lima puluh ribu rupiah).\\\", \\\"undang-undang\\\": \\\"Undang-Undang Nomor 22 Tahun 2009 tentang Lalu Lintas dan Angkutan Jalan\\\", \\\"BAB\\\": \\\"BAB XX KETENTUAN PIDANA\\\", \\\"pasal\\\": \\\"Pasal 291\\\", \\\"ayat\\\": \\\"ayat (1)\\\"}, {\\\"jawaban\\\": \\\"Setiap orang yang mengemudikan Sepeda Motor yang membiarkan penumpangnya tidak mengenakan helm sebagaimana dimaksud dalam Pasal 106 ayat (8) dipidana dengan pidana kurungan paling lama 1 (satu) bulan atau denda paling banyak Rp250.000,00 (dua ratus lima puluh ribu rupiah).\\\", \\\"undang-undang\\\": \\\"Undang-Undang Nomor 22 Tahun 2009 tentang Lalu Lintas dan Angkutan Jalan\\\", \\\"BAB\\\": \\\"BAB XX KETENTUAN PIDANA\\\", \\\"pasal\\\": \\\"Pasal 291\\\", \\\"ayat\\\": \\\"ayat (2)\\\"}]}\\n```\""
   ]
  },
  {
   "cell_type": "code",
   "execution_count": 6,
   "metadata": {},
   "outputs": [
    {
     "data": {
      "text/plain": [
       "'{\"full_answer\": \"Seseorang yang mengendarai sepeda motor tanpa mengenakan helm yang memenuhi standar nasional Indonesia sebagaimana dimaksud dalam Pasal 106 ayat (8) Undang-Undang Nomor 22 Tahun 2009 tentang Lalu Lintas dan Angkutan Jalan, dipidana dengan pidana kurungan paling lama 1 (satu) bulan atau denda paling banyak Rp250.000,00 (dua ratus lima puluh ribu rupiah).\", \"laws\": [{\"jawaban\": \"Setiap orang yang mengemudikan Sepeda Motor dan Penumpang Sepeda Motor wajib mengenakan helm yang memenuhi standar nasional Indonesia sebagaimana dimaksud dalam Pasal 106 ayat (8) dipidana dengan pidana kurungan paling lama 1 (satu) bulan atau denda paling banyak Rp250.000,00 (dua ratus lima puluh ribu rupiah).\", \"undang-undang\": \"Undang-Undang Nomor 22 Tahun 2009 tentang Lalu Lintas dan Angkutan Jalan\", \"BAB\": \"BAB IX LALU LINTAS\", \"pasal\": \"Pasal 106\", \"ayat\": \"ayat (8)\"}, {\"jawaban\": \"Setiap orang yang mengemudikan Sepeda Motor tidak mengenakan helm standar nasional Indonesia sebagaimana dimaksud dalam Pasal 106 ayat (8) dipidana dengan pidana kurungan paling lama 1 (satu) bulan atau denda paling banyak Rp250.000,00 (dua ratus lima puluh ribu rupiah).\", \"undang-undang\": \"Undang-Undang Nomor 22 Tahun 2009 tentang Lalu Lintas dan Angkutan Jalan\", \"BAB\": \"BAB XX KETENTUAN PIDANA\", \"pasal\": \"Pasal 291\", \"ayat\": \"ayat (1)\"}, {\"jawaban\": \"Setiap orang yang mengemudikan Sepeda Motor yang membiarkan penumpangnya tidak mengenakan helm sebagaimana dimaksud dalam Pasal 106 ayat (8) dipidana dengan pidana kurungan paling lama 1 (satu) bulan atau denda paling banyak Rp250.000,00 (dua ratus lima puluh ribu rupiah).\", \"undang-undang\": \"Undang-Undang Nomor 22 Tahun 2009 tentang Lalu Lintas dan Angkutan Jalan\", \"BAB\": \"BAB XX KETENTUAN PIDANA\", \"pasal\": \"Pasal 291\", \"ayat\": \"ayat (2)\"}]}'"
      ]
     },
     "execution_count": 6,
     "metadata": {},
     "output_type": "execute_result"
    }
   ],
   "source": [
    "text = text.strip(\"`\")\n",
    "text = text.strip(\"json\")\n",
    "text = text.strip(\"\\n\")\n",
    "text"
   ]
  },
  {
   "cell_type": "code",
   "execution_count": 7,
   "metadata": {},
   "outputs": [
    {
     "data": {
      "text/plain": [
       "{'full_answer': 'Seseorang yang mengendarai sepeda motor tanpa mengenakan helm yang memenuhi standar nasional Indonesia sebagaimana dimaksud dalam Pasal 106 ayat (8) Undang-Undang Nomor 22 Tahun 2009 tentang Lalu Lintas dan Angkutan Jalan, dipidana dengan pidana kurungan paling lama 1 (satu) bulan atau denda paling banyak Rp250.000,00 (dua ratus lima puluh ribu rupiah).',\n",
       " 'laws': [{'jawaban': 'Setiap orang yang mengemudikan Sepeda Motor dan Penumpang Sepeda Motor wajib mengenakan helm yang memenuhi standar nasional Indonesia sebagaimana dimaksud dalam Pasal 106 ayat (8) dipidana dengan pidana kurungan paling lama 1 (satu) bulan atau denda paling banyak Rp250.000,00 (dua ratus lima puluh ribu rupiah).',\n",
       "   'undang-undang': 'Undang-Undang Nomor 22 Tahun 2009 tentang Lalu Lintas dan Angkutan Jalan',\n",
       "   'BAB': 'BAB IX LALU LINTAS',\n",
       "   'pasal': 'Pasal 106',\n",
       "   'ayat': 'ayat (8)'},\n",
       "  {'jawaban': 'Setiap orang yang mengemudikan Sepeda Motor tidak mengenakan helm standar nasional Indonesia sebagaimana dimaksud dalam Pasal 106 ayat (8) dipidana dengan pidana kurungan paling lama 1 (satu) bulan atau denda paling banyak Rp250.000,00 (dua ratus lima puluh ribu rupiah).',\n",
       "   'undang-undang': 'Undang-Undang Nomor 22 Tahun 2009 tentang Lalu Lintas dan Angkutan Jalan',\n",
       "   'BAB': 'BAB XX KETENTUAN PIDANA',\n",
       "   'pasal': 'Pasal 291',\n",
       "   'ayat': 'ayat (1)'},\n",
       "  {'jawaban': 'Setiap orang yang mengemudikan Sepeda Motor yang membiarkan penumpangnya tidak mengenakan helm sebagaimana dimaksud dalam Pasal 106 ayat (8) dipidana dengan pidana kurungan paling lama 1 (satu) bulan atau denda paling banyak Rp250.000,00 (dua ratus lima puluh ribu rupiah).',\n",
       "   'undang-undang': 'Undang-Undang Nomor 22 Tahun 2009 tentang Lalu Lintas dan Angkutan Jalan',\n",
       "   'BAB': 'BAB XX KETENTUAN PIDANA',\n",
       "   'pasal': 'Pasal 291',\n",
       "   'ayat': 'ayat (2)'}]}"
      ]
     },
     "execution_count": 7,
     "metadata": {},
     "output_type": "execute_result"
    }
   ],
   "source": [
    "import json\n",
    "\n",
    "text_json = json.loads(text)\n",
    "text_json"
   ]
  }
 ],
 "metadata": {
  "kernelspec": {
   "display_name": "base",
   "language": "python",
   "name": "python3"
  },
  "language_info": {
   "codemirror_mode": {
    "name": "ipython",
    "version": 3
   },
   "file_extension": ".py",
   "mimetype": "text/x-python",
   "name": "python",
   "nbconvert_exporter": "python",
   "pygments_lexer": "ipython3",
   "version": "3.11.5"
  }
 },
 "nbformat": 4,
 "nbformat_minor": 2
}
